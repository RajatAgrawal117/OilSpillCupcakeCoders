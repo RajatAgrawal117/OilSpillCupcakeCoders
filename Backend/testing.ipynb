{
 "cells": [
  {
   "cell_type": "code",
   "execution_count": 1,
   "metadata": {},
   "outputs": [
    {
     "name": "stdout",
     "output_type": "stream",
     "text": [
      "[338075892, 367669550, 367118980, 367177840, 367305420, 338239081, 367507960, 636018568, 366847780, 367468580]\n"
     ]
    }
   ],
   "source": [
    "import pandas as pd\n",
    "\n",
    "# Load the CSV data\n",
    "csv_file_path = 'AIS_2024_01_01.csv'  # Update with the path to your CSV file\n",
    "data = pd.read_csv(csv_file_path)\n",
    "\n",
    "# Display the first few rows of the dataframe\n",
    "data.head()\n",
    "\n",
    "# Get unique MMSI numbers\n",
    "unique_mmsi = data['MMSI'].drop_duplicates().head(10)\n",
    "\n",
    "# Display the unique MMSI numbers\n",
    "unique_mmsi_list = unique_mmsi.tolist()\n",
    "unique_mmsi_list\n",
    "print(unique_mmsi_list)"
   ]
  }
 ],
 "metadata": {
  "kernelspec": {
   "display_name": "Python 3",
   "language": "python",
   "name": "python3"
  },
  "language_info": {
   "codemirror_mode": {
    "name": "ipython",
    "version": 3
   },
   "file_extension": ".py",
   "mimetype": "text/x-python",
   "name": "python",
   "nbconvert_exporter": "python",
   "pygments_lexer": "ipython3",
   "version": "3.11.9"
  }
 },
 "nbformat": 4,
 "nbformat_minor": 2
}
